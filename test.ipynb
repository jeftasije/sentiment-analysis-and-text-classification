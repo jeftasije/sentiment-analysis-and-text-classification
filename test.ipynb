{
 "cells": [
  {
   "cell_type": "code",
   "execution_count": null,
   "metadata": {},
   "outputs": [],
   "source": [
    "import os\n",
    "import joblib\n",
    "from models import utils\n",
    "from keras.models import load_model\n",
    "from tensorflow.keras.preprocessing.text import tokenizer_from_json\n",
    "from keras.preprocessing.sequence import pad_sequences"
   ]
  },
  {
   "cell_type": "code",
   "execution_count": 5,
   "metadata": {},
   "outputs": [
    {
     "name": "stdout",
     "output_type": "stream",
     "text": [
      "Text: \n",
      " As the world progresses into the 21st century, the future of human space exploration looks incredibly promising. With advancements in technology and the increasing involvement of private companies, the possibilities are expanding beyond what we once thought possible.\n",
      "\n",
      "\n",
      "Sentimet: positive\n"
     ]
    }
   ],
   "source": [
    "file_path = './test.txt'\n",
    "with open(file_path, 'r') as file:\n",
    "            text = file.read()\n",
    "\n",
    "print(f'Text: \\n {text}')\n",
    "\n",
    "text = [utils.lemmatize(utils.remove_stopwords(utils.remove_breaklines(text)))]\n",
    "\n",
    "with open('./models/semantic_tokenizer_config.json', 'r') as f:\n",
    "    tokenizer_config = f.read()\n",
    "\n",
    "tokenizer = tokenizer_from_json(tokenizer_config)\n",
    "tokens = tokenizer.texts_to_sequences(text)\n",
    "\n",
    "max_length = getattr(utils, 'max_sentence_length')\n",
    "tokens = pad_sequences(tokens, max_length)\n",
    "\n",
    "semantic_model = load_model('./models/sentiment_model.keras')\n",
    "prediction = semantic_model.predict(tokens, verbose=0)\n",
    "\n",
    "if prediction[0][0] < 0.5:\n",
    "        print('\\n Sentiment: Negative')\n",
    "else:\n",
    "        print('\\nSentimet: positive')"
   ]
  },
  {
   "cell_type": "code",
   "execution_count": 4,
   "metadata": {},
   "outputs": [
    {
     "name": "stdout",
     "output_type": "stream",
     "text": [
      "[14]\n",
      "Predicted Category: sci.space\n"
     ]
    }
   ],
   "source": [
    "\n",
    "model_path = './models/naive_bayes_model.pkl'\n",
    "clf = joblib.load(model_path)\n",
    "\n",
    "vectorizer_path = './models/tfidf_vectorizer.pkl'\n",
    "vectorizer = joblib.load(vectorizer_path)\n",
    "\n",
    "file_path = './test.txt'\n",
    "with open(file_path, 'r') as file:\n",
    "            text = file.read()\n",
    "            \n",
    "new_texts_preprocessed = [utils.preprocess_text(text)]\n",
    "new_texts_tfidf = vectorizer.transform(new_texts_preprocessed)\n",
    "\n",
    "predictions = clf.predict(new_texts_tfidf)\n",
    "print(predictions)\n",
    "\n",
    "folder_path = './datasets/20_newsgroups'\n",
    "target_names = os.listdir(folder_path)\n",
    "target_names.sort() \n",
    "\n",
    "predicted_category_name = target_names[predictions[0]]\n",
    "print(\"Predicted Category:\", predicted_category_name)"
   ]
  }
 ],
 "metadata": {
  "kernelspec": {
   "display_name": ".venv",
   "language": "python",
   "name": "python3"
  },
  "language_info": {
   "codemirror_mode": {
    "name": "ipython",
    "version": 3
   },
   "file_extension": ".py",
   "mimetype": "text/x-python",
   "name": "python",
   "nbconvert_exporter": "python",
   "pygments_lexer": "ipython3",
   "version": "3.10.12"
  }
 },
 "nbformat": 4,
 "nbformat_minor": 2
}
