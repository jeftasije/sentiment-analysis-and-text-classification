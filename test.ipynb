{
 "cells": [
  {
   "cell_type": "code",
   "execution_count": null,
   "metadata": {},
   "outputs": [],
   "source": [
    "from models import utils\n",
    "from keras.models import load_model\n",
    "from tensorflow.keras.preprocessing.text import tokenizer_from_json\n",
    "from keras.preprocessing.sequence import pad_sequences"
   ]
  },
  {
   "cell_type": "code",
   "execution_count": 11,
   "metadata": {},
   "outputs": [
    {
     "name": "stdout",
     "output_type": "stream",
     "text": [
      "Text: \n",
      " I recently watched a movie that left me completely mesmerized. The storyline was captivating from start to finish, and the characters were so well-developed that I felt like I knew them personally. The cinematography was stunning, with beautiful scenes that were a visual treat. The soundtrack perfectly complemented the emotions of each scene, making the experience even more immersive. Overall, it was an outstanding film that I would highly recommend to anyone looking for a meaningful and heartwarming story. I absolutely loved it!\n",
      "\n",
      "Sentimet: positive\n"
     ]
    }
   ],
   "source": [
    "file_path = './test.txt'\n",
    "with open(file_path, 'r') as file:\n",
    "            text = file.read()\n",
    "\n",
    "print(f'Text: \\n {text}')\n",
    "\n",
    "text = [utils.lemmatize(utils.remove_stopwords(utils.remove_breaklines(text)))]\n",
    "\n",
    "with open('./models/semantic_tokenizer_config.json', 'r') as f:\n",
    "    tokenizer_config = f.read()\n",
    "\n",
    "tokenizer = tokenizer_from_json(tokenizer_config)\n",
    "tokens = tokenizer.texts_to_sequences(text)\n",
    "\n",
    "max_length = getattr(utils, 'max_sentence_length')\n",
    "tokens = pad_sequences(tokens, max_length)\n",
    "\n",
    "semantic_model = load_model('./models/sentiment_model.keras')\n",
    "prediction = semantic_model.predict(tokens, verbose=0)\n",
    "\n",
    "if prediction[0][0] < 0.5:\n",
    "        print('\\n Sentiment: Negative')\n",
    "else:\n",
    "        print('\\nSentimet: positive')"
   ]
  }
 ],
 "metadata": {
  "kernelspec": {
   "display_name": ".venv",
   "language": "python",
   "name": "python3"
  },
  "language_info": {
   "codemirror_mode": {
    "name": "ipython",
    "version": 3
   },
   "file_extension": ".py",
   "mimetype": "text/x-python",
   "name": "python",
   "nbconvert_exporter": "python",
   "pygments_lexer": "ipython3",
   "version": "3.10.12"
  }
 },
 "nbformat": 4,
 "nbformat_minor": 2
}
